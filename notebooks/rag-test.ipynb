{
 "cells": [
  {
   "cell_type": "markdown",
   "id": "3312f455-25a3-4e32-b1d3-32bef21537bb",
   "metadata": {},
   "source": [
    "## Ingestion"
   ]
  },
  {
   "cell_type": "code",
   "execution_count": 1,
   "id": "9142071e-51fc-4f08-be52-b60c7c149736",
   "metadata": {},
   "outputs": [
    {
     "name": "stdout",
     "output_type": "stream",
     "text": [
      "Loaded 217 documents with embeddings.\n",
      "\n",
      "Minsearch KEYWORD index created and saved successfully to '/workspaces/knowledge-base-assistant/data/data_index.bin'\n"
     ]
    }
   ],
   "source": [
    "import os\n",
    "import minsearch\n",
    "import json\n",
    "import pickle\n",
    "\n",
    "\n",
    "PROJECT_ROOT = os.path.abspath(os.path.join(os.getcwd(), '..')) \n",
    "\n",
    "data_path = os.path.join(PROJECT_ROOT, 'data', 'data.jsonl')\n",
    "data_index_path = os.path.join(PROJECT_ROOT, 'data', 'data_index.bin')\n",
    "\n",
    "# Load processed data\n",
    "with open(data_path, 'rt', encoding='utf-8') as f_in:\n",
    "    docs = [json.loads(line) for line in f_in]\n",
    "\n",
    "# Filter out any chunks where embedding failed (is None)\n",
    "documents = [doc for doc in docs if doc.get('embedding') is not None]\n",
    "print(f\"Loaded {len(documents)} documents with embeddings.\")\n",
    "\n",
    "# Create Minsearch Index\n",
    "index = minsearch.Index(\n",
    "    text_fields=[\"text\"],\n",
    "    keyword_fields=[\"title\", \"document_id\", \"chunk_type\", \"section_title\"]\n",
    ")\n",
    "\n",
    "# Add documents to the index\n",
    "index.fit(documents)\n",
    "\n",
    "# SAVE THE INDEX\n",
    "with open(data_index_path, 'wb') as f_out:\n",
    "    pickle.dump(index, f_out)\n",
    "\n",
    "print(f\"\\nMinsearch KEYWORD index created and saved successfully to '{data_index_path}'\")"
   ]
  },
  {
   "cell_type": "markdown",
   "id": "641207ec-4952-4521-a8df-1482aa9bd01d",
   "metadata": {},
   "source": [
    "## RAG flow"
   ]
  },
  {
   "cell_type": "code",
   "execution_count": 2,
   "id": "789cbaea-545c-43be-9d90-861498c5fa47",
   "metadata": {},
   "outputs": [
    {
     "name": "stdout",
     "output_type": "stream",
     "text": [
      "Minsearch index loaded successfully.\n"
     ]
    }
   ],
   "source": [
    "import minsearch\n",
    "import json\n",
    "import os\n",
    "import pickle\n",
    "\n",
    "PROJECT_ROOT = os.path.abspath(os.path.join(os.getcwd(), '..')) \n",
    "data_index_path = os.path.join(PROJECT_ROOT, 'data', 'data_index.bin')\n",
    "\n",
    "# Load the Index\n",
    "with open(data_index_path, 'rb') as f_in:\n",
    "    index = pickle.load(f_in)\n",
    "    \n",
    "print(\"Minsearch index loaded successfully.\")"
   ]
  },
  {
   "cell_type": "code",
   "execution_count": 3,
   "id": "63d9e161-a897-4a37-9b82-765e03475714",
   "metadata": {},
   "outputs": [],
   "source": [
    "from openai import OpenAI\n",
    "client = OpenAI()"
   ]
  },
  {
   "cell_type": "code",
   "execution_count": 4,
   "id": "4641bcf6-4144-4269-9986-38b29cd8658f",
   "metadata": {},
   "outputs": [],
   "source": [
    "def search(query, filter_dict={}):\n",
    "    \"\"\"Performs a keyword search with optional filtering.\"\"\"\n",
    "    boost = {'title': 3.0, 'section_title': 1.5}\n",
    "    # boost = {}\n",
    "    results = index.search(\n",
    "        query=query,\n",
    "        filter_dict=filter_dict,\n",
    "        boost_dict=boost,\n",
    "        num_results=7\n",
    "    )\n",
    "    return results"
   ]
  },
  {
   "cell_type": "code",
   "execution_count": 5,
   "id": "7dd7b5c6-4d4e-417d-b59b-aa2a0d50638f",
   "metadata": {},
   "outputs": [],
   "source": [
    "# Main prompt to be sent to the LLM\n",
    "prompt_template = \"\"\"\n",
    "You are an expert assistant for a technical knowledge base.\n",
    "Your task is to answer the user's QUESTION based *only* on the provided CONTEXT from the document library.\n",
    "If the CONTEXT does not contain the answer, state that the information is not available in the provided documents.\n",
    "Be concise, accurate, and cite the source document title when possible.\n",
    "\n",
    "QUESTION:\n",
    "{question}\n",
    "\n",
    "CONTEXT:\n",
    "---\n",
    "{context}\n",
    "---\n",
    "\"\"\".strip()\n",
    "\n",
    "# Single retrieved chunk for the LLM labeling the source and context for the model\n",
    "entry_template = \"\"\"\n",
    "Source Document: {title}\n",
    "Section: {section_title} (Page {page_number})\n",
    "Content: {content}\n",
    "\"\"\".strip()\n",
    "\n",
    "# Assembles final prompt for the LLM\n",
    "def build_prompt(query, search_results):\n",
    "    context_parts = []\n",
    "    \n",
    "    for doc in search_results:\n",
    "        context_parts.append(entry_template.format(**doc))\n",
    "\n",
    "    context = \"\\n\\n---\\n\\n\".join(context_parts)\n",
    "\n",
    "    prompt = prompt_template.format(question=query, context=context)\n",
    "    return prompt"
   ]
  },
  {
   "cell_type": "code",
   "execution_count": 6,
   "id": "6c609fa5-28f1-447b-a690-bea01f2b5df3",
   "metadata": {},
   "outputs": [],
   "source": [
    "def llm(prompt, model='gpt-4o-mini'):\n",
    "    response = client.chat.completions.create(\n",
    "        model=model,\n",
    "        messages=[{\"role\": \"user\", \"content\": prompt}]\n",
    "    )\n",
    "    \n",
    "    return response.choices[0].message.content"
   ]
  },
  {
   "cell_type": "code",
   "execution_count": 68,
   "id": "ac1166f9-481b-4124-b630-5a5a54e44e83",
   "metadata": {},
   "outputs": [],
   "source": [
    "def rag(query, model='gpt-4o-mini'):\n",
    "    \"\"\"\n",
    "    Advanced, hybrid RAG function that:\n",
    "    1. Checks for metadata queries.\n",
    "    2. If found, retrieves all relevant metadata.\n",
    "    3. Passes the metadata and the original query to an LLM for reasoning.\n",
    "    4. If not a metadata query, performs standard content search and synthesis.\n",
    "    \"\"\"\n",
    "    import os\n",
    "\n",
    "    PROJECT_ROOT = os.path.abspath(os.path.join(os.getcwd(), '..'))    \n",
    "    data_path = os.path.join(PROJECT_ROOT, 'data', 'data.jsonl')\n",
    "    \n",
    "    # Step 1: Detect if it's a Metadata Query\n",
    "    metadata_keywords = ['author', 'authors', 'year', 'published', 'title', 'document id']\n",
    "    is_metadata_query = any(keyword in query.lower() for keyword in metadata_keywords)\n",
    "\n",
    "    if is_metadata_query:\n",
    "        print(\"--> Detected a metadata query. Retrieving all metadata for context.\")\n",
    "        \n",
    "        # Load dataset\n",
    "        with open(data_path, 'rt', encoding='utf-8') as f_in:\n",
    "            all_docs = [json.loads(line) for line in f_in]\n",
    "\n",
    "        # Get metadata\n",
    "        papers_metadata = {}\n",
    "        for doc in all_docs:\n",
    "            title = doc['document_metadata'].get('title')\n",
    "            if title and title not in papers_metadata:\n",
    "                papers_metadata[title] = doc['document_metadata']\n",
    "\n",
    "        #  Step 2: Build Context from Metadata\n",
    "        context = \"Here is the available metadata from the knowledge base:\\n\\n\"\n",
    "        for i, (title, meta) in enumerate(papers_metadata.items()):\n",
    "            context += f\"--- Document {i+1} ---\\n\"\n",
    "            context += f\"Title: {meta.get('title', 'N/A')}\\n\"\n",
    "            context += f\"Authors: {', '.join(meta.get('authors', []))}\\n\"\n",
    "            context += f\"Year: {meta.get('year', 'N/A')}\\n\\n\"\n",
    "            \n",
    "        # Step 3: Build Prompt and Call the LLM for Reasoning\n",
    "        metadata_prompt = f\"\"\"\n",
    "You are a research assistant. Your task is to answer the user's QUESTION based *only* on the provided METADATA.\n",
    "Perform any necessary analysis, such as comparing lists or counting, to answer the question accurately.\n",
    "\n",
    "QUESTION:\n",
    "{query}\n",
    "\n",
    "METADATA:\n",
    "---\n",
    "{context}\n",
    "---\n",
    "\"\"\".strip()\n",
    "        \n",
    "        # Call the LLM to reason over metadata\n",
    "        answer = llm(metadata_prompt, model=model)\n",
    "        return answer\n",
    "\n",
    "    else:\n",
    "        print(\"--> Performing standard content search.\")\n",
    "        search_results = search(query)\n",
    "        if not search_results:\n",
    "            return \"I could not find any relevant information in the documents for that query.\"\n",
    "            \n",
    "        prompt = build_prompt(query, search_results)\n",
    "        answer = llm(prompt, model=model)\n",
    "        return answer"
   ]
  },
  {
   "cell_type": "code",
   "execution_count": 8,
   "id": "7cbc9757-6680-498c-9e6c-77b92f23b09a",
   "metadata": {},
   "outputs": [],
   "source": [
    "question = \"What does CRM tand for?\""
   ]
  },
  {
   "cell_type": "code",
   "execution_count": 9,
   "id": "4b10c313-2412-48b1-b8cf-3d770b049e38",
   "metadata": {},
   "outputs": [
    {
     "name": "stdout",
     "output_type": "stream",
     "text": [
      "--> Performing standard content search.\n",
      "CRM stands for 'crew resource management' in the context of non-technical skills within the aviation and oil and gas industries (Source: A Disruptive Approach To CRM And Situational Awareness Competencies, Introduction, Page 2).\n"
     ]
    }
   ],
   "source": [
    "answer = rag(question)\n",
    "print(answer)"
   ]
  },
  {
   "cell_type": "markdown",
   "id": "75d2a94e-1a0f-4ea9-b2cc-290df38a55bf",
   "metadata": {},
   "source": [
    "## Retrieval evaluation"
   ]
  },
  {
   "cell_type": "code",
   "execution_count": 10,
   "id": "dd9822f8-33a4-4a57-8ea1-b276404e34a3",
   "metadata": {},
   "outputs": [
    {
     "data": {
      "text/html": [
       "<div>\n",
       "<style scoped>\n",
       "    .dataframe tbody tr th:only-of-type {\n",
       "        vertical-align: middle;\n",
       "    }\n",
       "\n",
       "    .dataframe tbody tr th {\n",
       "        vertical-align: top;\n",
       "    }\n",
       "\n",
       "    .dataframe thead th {\n",
       "        text-align: right;\n",
       "    }\n",
       "</style>\n",
       "<table border=\"1\" class=\"dataframe\">\n",
       "  <thead>\n",
       "    <tr style=\"text-align: right;\">\n",
       "      <th></th>\n",
       "      <th>id</th>\n",
       "      <th>question</th>\n",
       "    </tr>\n",
       "  </thead>\n",
       "  <tbody>\n",
       "    <tr>\n",
       "      <th>0</th>\n",
       "      <td>a-disruptive-approach-to-crm-and-situational-a...</td>\n",
       "      <td>What role do non-technical skills play in safe...</td>\n",
       "    </tr>\n",
       "    <tr>\n",
       "      <th>1</th>\n",
       "      <td>a-disruptive-approach-to-crm-and-situational-a...</td>\n",
       "      <td>Can you explain what the Permanent Attention p...</td>\n",
       "    </tr>\n",
       "    <tr>\n",
       "      <th>2</th>\n",
       "      <td>a-disruptive-approach-to-crm-and-situational-a...</td>\n",
       "      <td>How does the Permanent Attention program impro...</td>\n",
       "    </tr>\n",
       "    <tr>\n",
       "      <th>3</th>\n",
       "      <td>a-disruptive-approach-to-crm-and-situational-a...</td>\n",
       "      <td>What are the key components that the Permanent...</td>\n",
       "    </tr>\n",
       "    <tr>\n",
       "      <th>4</th>\n",
       "      <td>a-disruptive-approach-to-crm-and-situational-a...</td>\n",
       "      <td>Why is situational awareness considered the mo...</td>\n",
       "    </tr>\n",
       "  </tbody>\n",
       "</table>\n",
       "</div>"
      ],
      "text/plain": [
       "                                                  id  \\\n",
       "0  a-disruptive-approach-to-crm-and-situational-a...   \n",
       "1  a-disruptive-approach-to-crm-and-situational-a...   \n",
       "2  a-disruptive-approach-to-crm-and-situational-a...   \n",
       "3  a-disruptive-approach-to-crm-and-situational-a...   \n",
       "4  a-disruptive-approach-to-crm-and-situational-a...   \n",
       "\n",
       "                                            question  \n",
       "0  What role do non-technical skills play in safe...  \n",
       "1  Can you explain what the Permanent Attention p...  \n",
       "2  How does the Permanent Attention program impro...  \n",
       "3  What are the key components that the Permanent...  \n",
       "4  Why is situational awareness considered the mo...  "
      ]
     },
     "execution_count": 10,
     "metadata": {},
     "output_type": "execute_result"
    }
   ],
   "source": [
    "import os\n",
    "import json\n",
    "import pandas as pd\n",
    "\n",
    "PROJECT_ROOT = os.path.abspath(os.path.join(os.getcwd(), '..')) \n",
    "csv_output_path = os.path.join(PROJECT_ROOT, 'data', 'ground-truth-retrieval.csv')\n",
    "\n",
    "df_question = pd.read_csv(csv_output_path)\n",
    "df_question.head()"
   ]
  },
  {
   "cell_type": "code",
   "execution_count": 11,
   "id": "c013aae8-2eab-47d8-89c5-b91e181bf744",
   "metadata": {},
   "outputs": [],
   "source": [
    "ground_truth = df_question.to_dict(orient='records')"
   ]
  },
  {
   "cell_type": "code",
   "execution_count": 12,
   "id": "c600665f-6fc1-4171-836a-470264de1f60",
   "metadata": {},
   "outputs": [
    {
     "data": {
      "text/plain": [
       "{'id': 'a-disruptive-approach-to-crm-and-situational-awareness-competenc_PAGE1001',\n",
       " 'question': 'What role do non-technical skills play in safety incidents in high-risk industries?'}"
      ]
     },
     "execution_count": 12,
     "metadata": {},
     "output_type": "execute_result"
    }
   ],
   "source": [
    "ground_truth[0]"
   ]
  },
  {
   "cell_type": "code",
   "execution_count": 13,
   "id": "143a1b01-4681-4895-bb7a-0c47a53412d0",
   "metadata": {},
   "outputs": [],
   "source": [
    "def hit_rate(relevance_total):\n",
    "    cnt = 0\n",
    "\n",
    "    for line in relevance_total:\n",
    "        if True in line:\n",
    "            cnt = cnt + 1\n",
    "\n",
    "    return cnt / len(relevance_total)\n",
    "\n",
    "def mrr(relevance_total):\n",
    "    total_score = 0.0\n",
    "\n",
    "    for line in relevance_total:\n",
    "        for rank in range(len(line)):\n",
    "            if line[rank] == True:\n",
    "                total_score = total_score + 1 / (rank + 1)\n",
    "\n",
    "    return total_score / len(relevance_total)"
   ]
  },
  {
   "cell_type": "code",
   "execution_count": 14,
   "id": "77974639-de77-4474-b4e1-8f64b40518fe",
   "metadata": {},
   "outputs": [],
   "source": [
    "def minsearch_search(query, filter_dict={}):\n",
    "    # boost = {\n",
    "    #     \"title\": 2.0,\n",
    "    #     \"section_title\": 1.5,\n",
    "    #     \"document_metadata\": 1.2,\n",
    "    #     \"content\": 0.9,\n",
    "    # }\n",
    "    \n",
    "    boost = {}\n",
    "    results = index.search(\n",
    "        query=query,\n",
    "        filter_dict=filter_dict,\n",
    "        boost_dict=boost,\n",
    "        num_results=12\n",
    "    )\n",
    "\n",
    "    return results"
   ]
  },
  {
   "cell_type": "code",
   "execution_count": 15,
   "id": "eeaac1aa-0d4c-4f4d-ad99-a4eb795d8f7e",
   "metadata": {},
   "outputs": [],
   "source": [
    "def evaluate(ground_truth, search_function):\n",
    "    relevance_total = []\n",
    "\n",
    "    for q in tqdm(ground_truth):\n",
    "        doc_id = q['id']\n",
    "        results = search_function(q)\n",
    "        relevance = [d['id'] == doc_id for d in results]\n",
    "        relevance_total.append(relevance)\n",
    "\n",
    "    return {\n",
    "        'hit_rate': hit_rate(relevance_total),\n",
    "        'mrr': mrr(relevance_total),\n",
    "    }"
   ]
  },
  {
   "cell_type": "code",
   "execution_count": 16,
   "id": "32a93242-02a6-4a43-a4bb-539fb0ce95c1",
   "metadata": {},
   "outputs": [],
   "source": [
    "from tqdm.auto import tqdm"
   ]
  },
  {
   "cell_type": "code",
   "execution_count": 17,
   "id": "9d9e9069-1a57-4a3e-a859-aca2aca00112",
   "metadata": {},
   "outputs": [
    {
     "data": {
      "application/vnd.jupyter.widget-view+json": {
       "model_id": "b5317302308249379e0367d2c5786650",
       "version_major": 2,
       "version_minor": 0
      },
      "text/plain": [
       "  0%|          | 0/1085 [00:00<?, ?it/s]"
      ]
     },
     "metadata": {},
     "output_type": "display_data"
    },
    {
     "data": {
      "text/plain": [
       "{'hit_rate': 0.9032258064516129, 'mrr': 0.7058479129677296}"
      ]
     },
     "execution_count": 17,
     "metadata": {},
     "output_type": "execute_result"
    }
   ],
   "source": [
    "evaluate(ground_truth, lambda q: minsearch_search(q['question']))"
   ]
  },
  {
   "cell_type": "code",
   "execution_count": 18,
   "id": "20dd3cbc-55b1-4716-ab99-d447ce6e5cb1",
   "metadata": {},
   "outputs": [
    {
     "data": {
      "application/vnd.jupyter.widget-view+json": {
       "model_id": "4d645fe0ab9945a787af82deeabccf9b",
       "version_major": 2,
       "version_minor": 0
      },
      "text/plain": [
       "  0%|          | 0/1085 [00:00<?, ?it/s]"
      ]
     },
     "metadata": {},
     "output_type": "display_data"
    },
    {
     "name": "stdout",
     "output_type": "stream",
     "text": [
      "{'hit_rate': 0.9032258064516129, 'mrr': 0.7058479129677296, 'map': np.float64(0.7058479129677286), 'ndcg': np.float64(0.7542275335716095), 'avg_relevant_score': np.float64(0.33637965147686755)}\n"
     ]
    }
   ],
   "source": [
    "import numpy as np\n",
    "from sklearn.metrics.pairwise import cosine_similarity\n",
    "\n",
    "# ------------------------------\n",
    "# Score-enabled search\n",
    "# ------------------------------\n",
    "def minsearch_search_with_scores(query, filter_dict={}, boost_dict={}, num_results=12):\n",
    "    # Build query vectors for each text field\n",
    "    query_vecs = {\n",
    "        field: index.vectorizers[field].transform([query])\n",
    "        for field in index.text_fields\n",
    "    }\n",
    "\n",
    "    scores = np.zeros(len(index.docs))\n",
    "\n",
    "    # Apply cosine similarity + boosts\n",
    "    for field, query_vec in query_vecs.items():\n",
    "        sim = cosine_similarity(query_vec, index.text_matrices[field]).flatten()\n",
    "        boost = boost_dict.get(field, 1.0)\n",
    "        scores += sim * boost\n",
    "\n",
    "    # Apply filters\n",
    "    for field, value in filter_dict.items():\n",
    "        if field in index.keyword_fields:\n",
    "            mask = (index.keyword_df[field] == value).to_numpy()\n",
    "            scores = scores * mask\n",
    "\n",
    "    # Top-k\n",
    "    top_indices = np.argpartition(scores, -num_results)[-num_results:]\n",
    "    top_indices = top_indices[np.argsort(-scores[top_indices])]\n",
    "\n",
    "    results = [(index.docs[i], float(scores[i])) for i in top_indices if scores[i] > 0]\n",
    "\n",
    "    return results\n",
    "\n",
    "\n",
    "# ------------------------------\n",
    "# Extra metrics\n",
    "# ------------------------------\n",
    "def average_precision(relevance):\n",
    "    \"\"\"AP for one query\"\"\"\n",
    "    hits, sum_prec = 0, 0.0\n",
    "    for i, rel in enumerate(relevance, start=1):\n",
    "        if rel:\n",
    "            hits += 1\n",
    "            sum_prec += hits / i\n",
    "    return sum_prec / hits if hits > 0 else 0.0\n",
    "\n",
    "def ndcg(relevance, k=None):\n",
    "    \"\"\"Normalized Discounted Cumulative Gain\"\"\"\n",
    "    if k is None:\n",
    "        k = len(relevance)\n",
    "    rel = np.array(relevance[:k], dtype=int)\n",
    "    dcg = np.sum(rel / np.log2(np.arange(2, len(rel) + 2)))\n",
    "    ideal = np.sum(sorted(rel, reverse=True) / np.log2(np.arange(2, len(rel) + 2)))\n",
    "    return dcg / ideal if ideal > 0 else 0.0\n",
    "\n",
    "\n",
    "# ------------------------------\n",
    "# Evaluation with scores\n",
    "# ------------------------------\n",
    "def evaluate_with_scores(ground_truth, search_function, k=12):\n",
    "    relevance_total = []\n",
    "    ap_scores = []\n",
    "    ndcg_scores = []\n",
    "    relevant_doc_scores = []\n",
    "\n",
    "    for q in tqdm(ground_truth):\n",
    "        doc_id = q['id']\n",
    "        results = search_function(q['question'], num_results=k)\n",
    "\n",
    "        # Extract docs and scores\n",
    "        docs, scores = zip(*results) if results else ([], [])\n",
    "        relevance = [d['id'] == doc_id for d in docs]\n",
    "\n",
    "        # Store metrics\n",
    "        relevance_total.append(relevance)\n",
    "        ap_scores.append(average_precision(relevance))\n",
    "        ndcg_scores.append(ndcg(relevance, k=k))\n",
    "\n",
    "        # If relevant doc was retrieved, log its score\n",
    "        for d, s in results:\n",
    "            if d['id'] == doc_id:\n",
    "                relevant_doc_scores.append(s)\n",
    "\n",
    "    return {\n",
    "        'hit_rate': hit_rate(relevance_total),\n",
    "        'mrr': mrr(relevance_total),\n",
    "        'map': np.mean(ap_scores),\n",
    "        'ndcg': np.mean(ndcg_scores),\n",
    "        'avg_relevant_score': np.mean(relevant_doc_scores) if relevant_doc_scores else 0.0,\n",
    "    }\n",
    "\n",
    "\n",
    "# ------------------------------\n",
    "# Run evaluation\n",
    "# ------------------------------\n",
    "metrics = evaluate_with_scores(\n",
    "    ground_truth,\n",
    "    lambda q, num_results=12: minsearch_search_with_scores(q, num_results=num_results)\n",
    ")\n",
    "\n",
    "print(metrics)\n"
   ]
  },
  {
   "cell_type": "code",
   "execution_count": 46,
   "id": "867a44e7-1033-43b7-a96b-4264aec9242c",
   "metadata": {},
   "outputs": [],
   "source": [
    "import numpy as np\n",
    "from sklearn.metrics.pairwise import cosine_similarity\n",
    "from tqdm.auto import tqdm\n",
    "\n",
    "# ---------------------------------------\n",
    "# Score-enabled search (same as before)\n",
    "# ---------------------------------------\n",
    "def minsearch_search_with_scores(query, filter_dict={}, boost_dict={}, num_results=12):\n",
    "    query_vecs = {\n",
    "        field: index.vectorizers[field].transform([query])\n",
    "        for field in index.text_fields\n",
    "    }\n",
    "\n",
    "    scores = np.zeros(len(index.docs))\n",
    "    \n",
    "    for field, query_vec in query_vecs.items():\n",
    "        sim = cosine_similarity(query_vec, index.text_matrices[field]).flatten()\n",
    "        boost = boost_dict.get(field, 1.0)\n",
    "        boost = boost\n",
    "        scores += sim * boost\n",
    "\n",
    "    for field, value in filter_dict.items():\n",
    "        if field in index.keyword_fields:\n",
    "            mask = (index.keyword_df[field] == value).to_numpy()\n",
    "            scores = scores * mask\n",
    "\n",
    "    top_indices = np.argpartition(scores, -num_results)[-num_results:]\n",
    "    top_indices = top_indices[np.argsort(-scores[top_indices])]\n",
    "\n",
    "    results = [(index.docs[i], float(scores[i])) for i in top_indices if scores[i] > 0]\n",
    "\n",
    "    return results\n",
    "\n",
    "\n",
    "# ---------------------------------------\n",
    "# Extra metrics\n",
    "# ---------------------------------------\n",
    "def average_precision(relevance):\n",
    "    hits, sum_prec = 0, 0.0\n",
    "    for i, rel in enumerate(relevance, start=1):\n",
    "        if rel:\n",
    "            hits += 1\n",
    "            sum_prec += hits / i\n",
    "    return sum_prec / hits if hits > 0 else 0.0\n",
    "\n",
    "def ndcg(relevance, k=None):\n",
    "    if k is None:\n",
    "        k = len(relevance)\n",
    "    rel = np.array(relevance[:k], dtype=int)\n",
    "    dcg = np.sum(rel / np.log2(np.arange(2, len(rel) + 2)))\n",
    "    ideal = np.sum(sorted(rel, reverse=True) / np.log2(np.arange(2, len(rel) + 2)))\n",
    "    return dcg / ideal if ideal > 0 else 0.0\n",
    "\n",
    "\n",
    "# ---------------------------------------\n",
    "# Evaluation with per-query details\n",
    "# ---------------------------------------\n",
    "def evaluate_with_scores(ground_truth, search_function, k=12):\n",
    "    relevance_total = []\n",
    "    ap_scores, ndcg_scores, relevant_doc_scores = [], [], []\n",
    "    per_query_details = []\n",
    "\n",
    "    for q in tqdm(ground_truth):\n",
    "        doc_id = q['id']\n",
    "        query_text = q['question']\n",
    "\n",
    "        results = search_function(query_text, num_results=k)\n",
    "        docs, scores = zip(*results) if results else ([], [])\n",
    "        relevance = [d['id'] == doc_id for d in docs]\n",
    "\n",
    "        # Compute metrics for this query\n",
    "        ap = average_precision(relevance)\n",
    "        ndcg_score = ndcg(relevance, k=k)\n",
    "        rank = next((i + 1 for i, rel in enumerate(relevance) if rel), None)\n",
    "        score = next((s for d, s in results if d['id'] == doc_id), None)\n",
    "\n",
    "        relevance_total.append(relevance)\n",
    "        ap_scores.append(ap)\n",
    "        ndcg_scores.append(ndcg_score)\n",
    "        if score is not None:\n",
    "            relevant_doc_scores.append(score)\n",
    "\n",
    "        per_query_details.append({\n",
    "            'query': query_text,\n",
    "            'ground_truth_id': doc_id,\n",
    "            'retrieved_ids': [d['id'] for d in docs],\n",
    "            'relevance': relevance,\n",
    "            'rank': rank,                # rank of the correct doc (1-based), or None if missing\n",
    "            'score': score,              # cosine similarity score for correct doc, or None\n",
    "            'ap': ap,\n",
    "            'ndcg': ndcg_score\n",
    "        })\n",
    "\n",
    "    # Aggregate\n",
    "    metrics = {\n",
    "        'hit_rate': float(hit_rate(relevance_total)),\n",
    "        'mrr': float(mrr(relevance_total)),\n",
    "        'map': float(np.mean(ap_scores)),\n",
    "        'ndcg': float(np.mean(ndcg_scores)),\n",
    "        'avg_relevant_score': float(np.mean(relevant_doc_scores)) if relevant_doc_scores else 0.0,\n",
    "    }\n",
    "\n",
    "    return metrics, per_query_details\n"
   ]
  },
  {
   "cell_type": "code",
   "execution_count": 47,
   "id": "7af19be3-c711-46f3-bcb8-95a3696d39bc",
   "metadata": {},
   "outputs": [
    {
     "data": {
      "application/vnd.jupyter.widget-view+json": {
       "model_id": "2ee3168f27a34f558fad347f3a1ec99b",
       "version_major": 2,
       "version_minor": 0
      },
      "text/plain": [
       "  0%|          | 0/1085 [00:00<?, ?it/s]"
      ]
     },
     "metadata": {},
     "output_type": "display_data"
    },
    {
     "name": "stdout",
     "output_type": "stream",
     "text": [
      "Aggregated metrics:\n",
      "{'hit_rate': 0.9032258064516129, 'mrr': 0.7058479129677296, 'map': 0.7058479129677286, 'ndcg': 0.7542275335716095, 'avg_relevant_score': 0.33637965147686755}\n",
      "\n",
      "Example query breakdown:\n",
      "{'query': 'What role do non-technical skills play in safety incidents in high-risk industries?', 'ground_truth_id': 'a-disruptive-approach-to-crm-and-situational-awareness-competenc_PAGE1001', 'retrieved_ids': ['a-disruptive-approach-to-crm-and-situational-awareness-competenc_PAGE2001', 'a-disruptive-approach-to-crm-and-situational-awareness-competenc_PAGE1001', 'a-disruptive-approach-to-crm-and-situational-awareness-competenc_PAGE2019', 'a-disruptive-approach-to-crm-and-situational-awareness-competenc_PAGE2006', 'a-disruptive-approach-to-crm-and-situational-awareness-competenc_PAGE2014', 'a-disruptive-approach-to-crm-and-situational-awareness-competenc_PAGE2002', 'a-disruptive-approach-to-crm-and-situational-awareness-competenc_PAGE10010', 'a-disruptive-approach-to-crm-and-situational-awareness-competenc_PAGE7007', 'a-disruptive-approach-to-crm-and-situational-awareness-competenc_PAGE2005', 'a-disruptive-approach-to-crm-and-situational-awareness-competenc_PAGE2021', 'a-disruptive-approach-to-crm-and-situational-awareness-competenc_PAGE2026', 'a-disruptive-approach-to-crm-and-situational-awareness-competenc_PAGE2004'], 'relevance': [False, True, False, False, False, False, False, False, False, False, False, False], 'rank': 2, 'score': 0.41267109578324185, 'ap': 0.5, 'ndcg': np.float64(0.6309297535714575)}\n",
      "{'query': 'Can you explain what the Permanent Attention program aims to achieve?', 'ground_truth_id': 'a-disruptive-approach-to-crm-and-situational-awareness-competenc_PAGE1001', 'retrieved_ids': ['a-disruptive-approach-to-crm-and-situational-awareness-competenc_PAGE1013', 'a-disruptive-approach-to-crm-and-situational-awareness-competenc_PAGE2017', 'a-disruptive-approach-to-crm-and-situational-awareness-competenc_PAGE2005', 'a-disruptive-approach-to-crm-and-situational-awareness-competenc_PAGE7008', 'holistic-approach-to-human-performance-improvement_PAGE8006', 'a-disruptive-approach-to-crm-and-situational-awareness-competenc_PAGE2015', 'a-disruptive-approach-to-crm-and-situational-awareness-competenc_PAGE1016', 'a-disruptive-approach-to-crm-and-situational-awareness-competenc_PAGE4004', 'a-disruptive-approach-to-crm-and-situational-awareness-competenc_PAGE10006', 'a-disruptive-approach-to-crm-and-situational-awareness-competenc_PAGE1002', 'a-disruptive-approach-to-crm-and-situational-awareness-competenc_PAGE11004', 'a-disruptive-approach-to-crm-and-situational-awareness-competenc_PAGE7003'], 'relevance': [False, False, False, False, False, False, False, False, False, False, False, False], 'rank': None, 'score': None, 'ap': 0.0, 'ndcg': 0.0}\n",
      "{'query': 'How does the Permanent Attention program improve situational awareness competencies?', 'ground_truth_id': 'a-disruptive-approach-to-crm-and-situational-awareness-competenc_PAGE1001', 'retrieved_ids': ['a-disruptive-approach-to-crm-and-situational-awareness-competenc_PAGE2005', 'a-disruptive-approach-to-crm-and-situational-awareness-competenc_PAGE1001', 'a-disruptive-approach-to-crm-and-situational-awareness-competenc_PAGE10006', 'a-disruptive-approach-to-crm-and-situational-awareness-competenc_PAGE2015', 'a-disruptive-approach-to-crm-and-situational-awareness-competenc_PAGE1013', 'a-disruptive-approach-to-crm-and-situational-awareness-competenc_PAGE1002', 'a-disruptive-approach-to-crm-and-situational-awareness-competenc_PAGE10007', 'a-disruptive-approach-to-crm-and-situational-awareness-competenc_PAGE1008', 'holistic-approach-to-human-performance-improvement_PAGE8003', 'a-disruptive-approach-to-crm-and-situational-awareness-competenc_PAGE8004', 'a-disruptive-approach-to-crm-and-situational-awareness-competenc_PAGE1016', 'a-disruptive-approach-to-crm-and-situational-awareness-competenc_PAGE1003'], 'relevance': [False, True, False, False, False, False, False, False, False, False, False, False], 'rank': 2, 'score': 0.28808438336667513, 'ap': 0.5, 'ndcg': np.float64(0.6309297535714575)}\n"
     ]
    }
   ],
   "source": [
    "metrics, details = evaluate_with_scores(\n",
    "    ground_truth,\n",
    "    lambda q, num_results=12: minsearch_search_with_scores(q, num_results=num_results)\n",
    ")\n",
    "\n",
    "print(\"Aggregated metrics:\")\n",
    "print(metrics)\n",
    "\n",
    "print(\"\\nExample query breakdown:\")\n",
    "for d in details[:3]:  # show first 3 queries\n",
    "    print(d)\n"
   ]
  },
  {
   "cell_type": "markdown",
   "id": "669b6134-8e40-4f64-b493-7a4168836ecd",
   "metadata": {},
   "source": [
    "## Finding the best parameters"
   ]
  },
  {
   "cell_type": "code",
   "execution_count": 22,
   "id": "1c02ddb3-b6dd-460e-8256-5cc831b9cc91",
   "metadata": {},
   "outputs": [],
   "source": [
    "df_validation = df_question[:100]\n",
    "df_test = df_question[100:]"
   ]
  },
  {
   "cell_type": "code",
   "execution_count": 23,
   "id": "360223ed-cef3-49ab-be9c-075ecbe500f7",
   "metadata": {},
   "outputs": [],
   "source": [
    "import random\n",
    "\n",
    "def simple_optimize(param_ranges, objective_function, n_iterations=10):\n",
    "    best_params = None\n",
    "    best_score = float('-inf')  # Assuming we're minimizing. Use float('-inf') if maximizing.\n",
    "\n",
    "    for _ in range(n_iterations):\n",
    "        # Generate random parameters\n",
    "        current_params = {}\n",
    "        for param, (min_val, max_val) in param_ranges.items():\n",
    "            if isinstance(min_val, int) and isinstance(max_val, int):\n",
    "                current_params[param] = random.randint(min_val, max_val)\n",
    "            else:\n",
    "                current_params[param] = random.uniform(min_val, max_val)\n",
    "        \n",
    "        # Evaluate the objective function\n",
    "        current_score = objective_function(current_params)\n",
    "        \n",
    "        # Update best if current is better\n",
    "        if current_score > best_score:  # Change to > if maximizing\n",
    "            best_score = current_score\n",
    "            best_params = current_params\n",
    "    \n",
    "    return best_params, best_score"
   ]
  },
  {
   "cell_type": "code",
   "execution_count": 24,
   "id": "5e063675-1080-40a7-9958-d51565051b5b",
   "metadata": {},
   "outputs": [],
   "source": [
    "gt_val = df_validation.to_dict(orient='records')"
   ]
  },
  {
   "cell_type": "code",
   "execution_count": 41,
   "id": "a6ccd918-2e90-4bbb-8a56-39d4794053d3",
   "metadata": {},
   "outputs": [],
   "source": [
    "def minsearch_search(query, boost=None):\n",
    "    if boost is None:\n",
    "        boost = {}\n",
    "\n",
    "    results = index.search(\n",
    "        query=query,\n",
    "        filter_dict={},\n",
    "        boost_dict=boost,\n",
    "        num_results=12\n",
    "    )\n",
    "\n",
    "    return results"
   ]
  },
  {
   "cell_type": "code",
   "execution_count": 42,
   "id": "67400fc8-925a-441b-8a04-bb560e03868d",
   "metadata": {},
   "outputs": [],
   "source": [
    "param_ranges = {\n",
    "    'text': (0.0, 3.0),\n",
    "    'title': (0.0, 3.0),\n",
    "    'document_id': (0.0, 3.0),\n",
    "    'chunk_type': (0.0, 3.0),\n",
    "    'section_title': (0.0, 3.0),\n",
    "    'page_number': (0.0, 3.0),\n",
    "    'content': (0.0, 3.0),\n",
    "    'id': (0.0, 3.0),\n",
    "    'url': (0.0, 3.0)\n",
    "}\n",
    "\n",
    "def objective(boost_params):\n",
    "    def search_function(q):\n",
    "        return minsearch_search(q['question'], boost_params)\n",
    "\n",
    "    results = evaluate(gt_val, search_function)\n",
    "    return results['mrr']"
   ]
  },
  {
   "cell_type": "code",
   "execution_count": 43,
   "id": "e12775e2-73c0-44c5-ac96-e0d0e5a482d6",
   "metadata": {},
   "outputs": [
    {
     "data": {
      "application/vnd.jupyter.widget-view+json": {
       "model_id": "e95b391a59aa4499a5b87286083d8f9f",
       "version_major": 2,
       "version_minor": 0
      },
      "text/plain": [
       "  0%|          | 0/100 [00:00<?, ?it/s]"
      ]
     },
     "metadata": {},
     "output_type": "display_data"
    },
    {
     "data": {
      "application/vnd.jupyter.widget-view+json": {
       "model_id": "d0f11ece4c8d414b850967a48ad766d0",
       "version_major": 2,
       "version_minor": 0
      },
      "text/plain": [
       "  0%|          | 0/100 [00:00<?, ?it/s]"
      ]
     },
     "metadata": {},
     "output_type": "display_data"
    },
    {
     "data": {
      "application/vnd.jupyter.widget-view+json": {
       "model_id": "716c78737d8c425597532d6202696c84",
       "version_major": 2,
       "version_minor": 0
      },
      "text/plain": [
       "  0%|          | 0/100 [00:00<?, ?it/s]"
      ]
     },
     "metadata": {},
     "output_type": "display_data"
    },
    {
     "data": {
      "application/vnd.jupyter.widget-view+json": {
       "model_id": "ca114aedce774c26b356fc46f17faea1",
       "version_major": 2,
       "version_minor": 0
      },
      "text/plain": [
       "  0%|          | 0/100 [00:00<?, ?it/s]"
      ]
     },
     "metadata": {},
     "output_type": "display_data"
    },
    {
     "data": {
      "application/vnd.jupyter.widget-view+json": {
       "model_id": "46bcc7ce302540cf9cb8df3c19060af3",
       "version_major": 2,
       "version_minor": 0
      },
      "text/plain": [
       "  0%|          | 0/100 [00:00<?, ?it/s]"
      ]
     },
     "metadata": {},
     "output_type": "display_data"
    },
    {
     "data": {
      "application/vnd.jupyter.widget-view+json": {
       "model_id": "2d42e230e6ad4d3dbfd23b11a38883cd",
       "version_major": 2,
       "version_minor": 0
      },
      "text/plain": [
       "  0%|          | 0/100 [00:00<?, ?it/s]"
      ]
     },
     "metadata": {},
     "output_type": "display_data"
    },
    {
     "data": {
      "application/vnd.jupyter.widget-view+json": {
       "model_id": "60d03eee68954a1ba067bdab240cb301",
       "version_major": 2,
       "version_minor": 0
      },
      "text/plain": [
       "  0%|          | 0/100 [00:00<?, ?it/s]"
      ]
     },
     "metadata": {},
     "output_type": "display_data"
    },
    {
     "data": {
      "application/vnd.jupyter.widget-view+json": {
       "model_id": "92feae072a86468d8e98dc50a201de19",
       "version_major": 2,
       "version_minor": 0
      },
      "text/plain": [
       "  0%|          | 0/100 [00:00<?, ?it/s]"
      ]
     },
     "metadata": {},
     "output_type": "display_data"
    },
    {
     "data": {
      "application/vnd.jupyter.widget-view+json": {
       "model_id": "3e3e21e5edb145f9af65e309cf591411",
       "version_major": 2,
       "version_minor": 0
      },
      "text/plain": [
       "  0%|          | 0/100 [00:00<?, ?it/s]"
      ]
     },
     "metadata": {},
     "output_type": "display_data"
    },
    {
     "data": {
      "application/vnd.jupyter.widget-view+json": {
       "model_id": "1290816ddcc54644872c0cb92342fa8a",
       "version_major": 2,
       "version_minor": 0
      },
      "text/plain": [
       "  0%|          | 0/100 [00:00<?, ?it/s]"
      ]
     },
     "metadata": {},
     "output_type": "display_data"
    },
    {
     "data": {
      "application/vnd.jupyter.widget-view+json": {
       "model_id": "b9bfb53ff08c4607896adc1540187470",
       "version_major": 2,
       "version_minor": 0
      },
      "text/plain": [
       "  0%|          | 0/100 [00:00<?, ?it/s]"
      ]
     },
     "metadata": {},
     "output_type": "display_data"
    },
    {
     "data": {
      "application/vnd.jupyter.widget-view+json": {
       "model_id": "8711addfac9c41d4b53de725a495648f",
       "version_major": 2,
       "version_minor": 0
      },
      "text/plain": [
       "  0%|          | 0/100 [00:00<?, ?it/s]"
      ]
     },
     "metadata": {},
     "output_type": "display_data"
    },
    {
     "data": {
      "application/vnd.jupyter.widget-view+json": {
       "model_id": "fc8a0fe43e0c4ddf89bd41dcff42b5d2",
       "version_major": 2,
       "version_minor": 0
      },
      "text/plain": [
       "  0%|          | 0/100 [00:00<?, ?it/s]"
      ]
     },
     "metadata": {},
     "output_type": "display_data"
    },
    {
     "data": {
      "application/vnd.jupyter.widget-view+json": {
       "model_id": "ccb67ccb8ae94ec4ad507aea5bb14efb",
       "version_major": 2,
       "version_minor": 0
      },
      "text/plain": [
       "  0%|          | 0/100 [00:00<?, ?it/s]"
      ]
     },
     "metadata": {},
     "output_type": "display_data"
    },
    {
     "data": {
      "application/vnd.jupyter.widget-view+json": {
       "model_id": "9a7b4b3fe18a43bb88661466ae870d7d",
       "version_major": 2,
       "version_minor": 0
      },
      "text/plain": [
       "  0%|          | 0/100 [00:00<?, ?it/s]"
      ]
     },
     "metadata": {},
     "output_type": "display_data"
    },
    {
     "data": {
      "application/vnd.jupyter.widget-view+json": {
       "model_id": "f81b1f06fe594e3e90d9ba02bbad1f7f",
       "version_major": 2,
       "version_minor": 0
      },
      "text/plain": [
       "  0%|          | 0/100 [00:00<?, ?it/s]"
      ]
     },
     "metadata": {},
     "output_type": "display_data"
    },
    {
     "data": {
      "application/vnd.jupyter.widget-view+json": {
       "model_id": "5346bba0bf1d45038da4b395cfe649e3",
       "version_major": 2,
       "version_minor": 0
      },
      "text/plain": [
       "  0%|          | 0/100 [00:00<?, ?it/s]"
      ]
     },
     "metadata": {},
     "output_type": "display_data"
    },
    {
     "data": {
      "application/vnd.jupyter.widget-view+json": {
       "model_id": "c440de2f576d4b3d903abd95f89a31de",
       "version_major": 2,
       "version_minor": 0
      },
      "text/plain": [
       "  0%|          | 0/100 [00:00<?, ?it/s]"
      ]
     },
     "metadata": {},
     "output_type": "display_data"
    },
    {
     "data": {
      "application/vnd.jupyter.widget-view+json": {
       "model_id": "e64e7b62ddc34c87a265a38055f04fde",
       "version_major": 2,
       "version_minor": 0
      },
      "text/plain": [
       "  0%|          | 0/100 [00:00<?, ?it/s]"
      ]
     },
     "metadata": {},
     "output_type": "display_data"
    },
    {
     "data": {
      "application/vnd.jupyter.widget-view+json": {
       "model_id": "04bcea248f824b38bb9fe951173a30bf",
       "version_major": 2,
       "version_minor": 0
      },
      "text/plain": [
       "  0%|          | 0/100 [00:00<?, ?it/s]"
      ]
     },
     "metadata": {},
     "output_type": "display_data"
    },
    {
     "data": {
      "text/plain": [
       "({'text': 0.050203145265249716,\n",
       "  'title': 0.7813235870713033,\n",
       "  'document_id': 1.191480369865708,\n",
       "  'chunk_type': 0.7618968989816123,\n",
       "  'section_title': 0.8162382802113468,\n",
       "  'page_number': 2.74238171358017,\n",
       "  'content': 1.6293154974892667,\n",
       "  'id': 0.6668278671530703,\n",
       "  'url': 2.295395023106587},\n",
       " 0.7119444444444444)"
      ]
     },
     "execution_count": 43,
     "metadata": {},
     "output_type": "execute_result"
    }
   ],
   "source": [
    "simple_optimize(param_ranges, objective, n_iterations=20)"
   ]
  },
  {
   "cell_type": "markdown",
   "id": "2d5f5886-c6cf-4c52-b306-8178c64325e7",
   "metadata": {},
   "source": [
    "## RAG evaluation"
   ]
  },
  {
   "cell_type": "code",
   "execution_count": 48,
   "id": "a0c1eded-331f-4986-b7f3-ca64e28b9d4e",
   "metadata": {},
   "outputs": [],
   "source": [
    "prompt2_template = \"\"\"\n",
    "You are an expert evaluator for a RAG system.\n",
    "Your task is to analyze the relevance of the generated answer to the given question.\n",
    "Based on the relevance of the generated answer, you will classify it\n",
    "as \"NON_RELEVANT\", \"PARTLY_RELEVANT\", or \"RELEVANT\".\n",
    "\n",
    "Here is the data for evaluation:\n",
    "\n",
    "Question: {question}\n",
    "Generated Answer: {answer_llm}\n",
    "\n",
    "Please analyze the content and context of the generated answer in relation to the question\n",
    "and provide your evaluation in parsable JSON without using code blocks:\n",
    "\n",
    "{{\n",
    "  \"Relevance\": \"NON_RELEVANT\" | \"PARTLY_RELEVANT\" | \"RELEVANT\",\n",
    "  \"Explanation\": \"[Provide a brief explanation for your evaluation]\"\n",
    "}}\n",
    "\"\"\".strip()"
   ]
  },
  {
   "cell_type": "code",
   "execution_count": 50,
   "id": "449b74bf-a2d9-424b-a206-5fde6570cf8f",
   "metadata": {},
   "outputs": [
    {
     "data": {
      "text/plain": [
       "1085"
      ]
     },
     "execution_count": 50,
     "metadata": {},
     "output_type": "execute_result"
    }
   ],
   "source": [
    "len(ground_truth)"
   ]
  },
  {
   "cell_type": "code",
   "execution_count": 54,
   "id": "8deb30be-2267-4160-87a6-59445c667007",
   "metadata": {},
   "outputs": [
    {
     "name": "stdout",
     "output_type": "stream",
     "text": [
      "--> Performing standard content search.\n"
     ]
    }
   ],
   "source": [
    "record = ground_truth[0]\n",
    "question = record['question']\n",
    "answer_llm = rag(question)"
   ]
  },
  {
   "cell_type": "code",
   "execution_count": 55,
   "id": "621a22d4-f4d0-4d9a-be70-1c22adb1eebe",
   "metadata": {},
   "outputs": [
    {
     "name": "stdout",
     "output_type": "stream",
     "text": [
      "Non-technical skills play a critical role in safety incidents in high-risk industries, as research indicates that the lack of these skills contributes to most personal and process safety incidents. Specifically, situational awareness is highlighted as the most influential non-technical skill in this context. This information is sourced from the document titled \"A Disruptive Approach To CRM And Situational Awareness Competencies.\"\n"
     ]
    }
   ],
   "source": [
    "print(answer_llm)"
   ]
  },
  {
   "cell_type": "code",
   "execution_count": 56,
   "id": "07806f38-3756-4851-9258-d7875bc70080",
   "metadata": {},
   "outputs": [
    {
     "name": "stdout",
     "output_type": "stream",
     "text": [
      "You are an expert evaluator for a RAG system.\n",
      "Your task is to analyze the relevance of the generated answer to the given question.\n",
      "Based on the relevance of the generated answer, you will classify it\n",
      "as \"NON_RELEVANT\", \"PARTLY_RELEVANT\", or \"RELEVANT\".\n",
      "\n",
      "Here is the data for evaluation:\n",
      "\n",
      "Question: What role do non-technical skills play in safety incidents in high-risk industries?\n",
      "Generated Answer: Non-technical skills play a critical role in safety incidents in high-risk industries, as research indicates that the lack of these skills contributes to most personal and process safety incidents. Specifically, situational awareness is highlighted as the most influential non-technical skill in this context. This information is sourced from the document titled \"A Disruptive Approach To CRM And Situational Awareness Competencies.\"\n",
      "\n",
      "Please analyze the content and context of the generated answer in relation to the question\n",
      "and provide your evaluation in parsable JSON without using code blocks:\n",
      "\n",
      "{\n",
      "  \"Relevance\": \"NON_RELEVANT\" | \"PARTLY_RELEVANT\" | \"RELEVANT\",\n",
      "  \"Explanation\": \"[Provide a brief explanation for your evaluation]\"\n",
      "}\n"
     ]
    }
   ],
   "source": [
    "prompt = prompt2_template.format(question=question, answer_llm=answer_llm)\n",
    "print(prompt)"
   ]
  },
  {
   "cell_type": "code",
   "execution_count": 64,
   "id": "76b50881-62ce-4df6-b2b8-278244f1077f",
   "metadata": {},
   "outputs": [],
   "source": [
    "import json"
   ]
  },
  {
   "cell_type": "code",
   "execution_count": 65,
   "id": "95deaf84-1ad7-4d01-916e-cd3d60fc6f58",
   "metadata": {},
   "outputs": [],
   "source": [
    "df_sample = df_question.sample(n=200, random_state=1)"
   ]
  },
  {
   "cell_type": "code",
   "execution_count": 66,
   "id": "6db73175-4d53-43e4-b99b-5675a99afd6c",
   "metadata": {},
   "outputs": [],
   "source": [
    "sample = df_sample.to_dict(orient='records')"
   ]
  },
  {
   "cell_type": "code",
   "execution_count": 69,
   "id": "2732c004-53f2-495d-b6b2-fb821d7c59fe",
   "metadata": {},
   "outputs": [
    {
     "data": {
      "application/vnd.jupyter.widget-view+json": {
       "model_id": "369353b25bfd44ee96d750cbc67d306b",
       "version_major": 2,
       "version_minor": 0
      },
      "text/plain": [
       "  0%|          | 0/200 [00:00<?, ?it/s]"
      ]
     },
     "metadata": {},
     "output_type": "display_data"
    },
    {
     "name": "stdout",
     "output_type": "stream",
     "text": [
      "--> Performing standard content search.\n",
      "--> Detected a metadata query. Retrieving all metadata for context.\n",
      "--> Performing standard content search.\n",
      "--> Performing standard content search.\n",
      "--> Performing standard content search.\n",
      "--> Performing standard content search.\n",
      "--> Performing standard content search.\n",
      "--> Performing standard content search.\n",
      "--> Performing standard content search.\n",
      "--> Performing standard content search.\n",
      "--> Performing standard content search.\n",
      "--> Performing standard content search.\n",
      "--> Performing standard content search.\n",
      "--> Performing standard content search.\n",
      "--> Performing standard content search.\n",
      "--> Performing standard content search.\n",
      "--> Performing standard content search.\n",
      "--> Performing standard content search.\n",
      "--> Performing standard content search.\n",
      "--> Performing standard content search.\n",
      "--> Performing standard content search.\n",
      "--> Performing standard content search.\n",
      "--> Performing standard content search.\n",
      "--> Performing standard content search.\n",
      "--> Performing standard content search.\n",
      "--> Performing standard content search.\n",
      "--> Performing standard content search.\n",
      "--> Performing standard content search.\n",
      "--> Performing standard content search.\n",
      "--> Performing standard content search.\n",
      "--> Performing standard content search.\n",
      "--> Performing standard content search.\n",
      "--> Performing standard content search.\n",
      "--> Performing standard content search.\n",
      "--> Performing standard content search.\n",
      "--> Performing standard content search.\n",
      "--> Performing standard content search.\n",
      "--> Performing standard content search.\n",
      "--> Performing standard content search.\n",
      "--> Performing standard content search.\n",
      "--> Performing standard content search.\n",
      "--> Performing standard content search.\n",
      "--> Performing standard content search.\n",
      "--> Performing standard content search.\n",
      "--> Performing standard content search.\n",
      "--> Performing standard content search.\n",
      "--> Performing standard content search.\n",
      "--> Detected a metadata query. Retrieving all metadata for context.\n",
      "--> Performing standard content search.\n",
      "--> Performing standard content search.\n",
      "--> Performing standard content search.\n",
      "--> Performing standard content search.\n",
      "--> Performing standard content search.\n",
      "--> Performing standard content search.\n",
      "--> Performing standard content search.\n",
      "--> Detected a metadata query. Retrieving all metadata for context.\n",
      "--> Performing standard content search.\n",
      "--> Detected a metadata query. Retrieving all metadata for context.\n",
      "--> Performing standard content search.\n",
      "--> Performing standard content search.\n",
      "--> Performing standard content search.\n",
      "--> Performing standard content search.\n",
      "--> Performing standard content search.\n",
      "--> Performing standard content search.\n",
      "--> Detected a metadata query. Retrieving all metadata for context.\n",
      "--> Performing standard content search.\n",
      "--> Performing standard content search.\n",
      "--> Performing standard content search.\n",
      "--> Performing standard content search.\n",
      "--> Performing standard content search.\n",
      "--> Performing standard content search.\n",
      "--> Performing standard content search.\n",
      "--> Performing standard content search.\n",
      "--> Performing standard content search.\n",
      "--> Performing standard content search.\n",
      "--> Performing standard content search.\n",
      "--> Performing standard content search.\n",
      "--> Performing standard content search.\n",
      "--> Performing standard content search.\n",
      "--> Performing standard content search.\n",
      "--> Detected a metadata query. Retrieving all metadata for context.\n",
      "--> Performing standard content search.\n",
      "--> Performing standard content search.\n",
      "--> Performing standard content search.\n",
      "--> Performing standard content search.\n",
      "--> Performing standard content search.\n",
      "--> Performing standard content search.\n",
      "--> Performing standard content search.\n",
      "--> Performing standard content search.\n",
      "--> Performing standard content search.\n",
      "--> Performing standard content search.\n",
      "--> Performing standard content search.\n",
      "--> Performing standard content search.\n",
      "--> Performing standard content search.\n",
      "--> Detected a metadata query. Retrieving all metadata for context.\n",
      "--> Detected a metadata query. Retrieving all metadata for context.\n",
      "--> Performing standard content search.\n",
      "--> Performing standard content search.\n",
      "--> Performing standard content search.\n",
      "--> Performing standard content search.\n",
      "--> Performing standard content search.\n",
      "--> Performing standard content search.\n",
      "--> Performing standard content search.\n",
      "--> Performing standard content search.\n",
      "--> Performing standard content search.\n",
      "--> Performing standard content search.\n",
      "--> Performing standard content search.\n",
      "--> Performing standard content search.\n",
      "--> Performing standard content search.\n",
      "--> Performing standard content search.\n",
      "--> Performing standard content search.\n",
      "--> Performing standard content search.\n",
      "--> Performing standard content search.\n",
      "--> Performing standard content search.\n",
      "--> Performing standard content search.\n",
      "--> Performing standard content search.\n",
      "--> Performing standard content search.\n",
      "--> Performing standard content search.\n",
      "--> Performing standard content search.\n",
      "--> Performing standard content search.\n",
      "--> Performing standard content search.\n",
      "--> Performing standard content search.\n",
      "--> Performing standard content search.\n",
      "--> Performing standard content search.\n",
      "--> Performing standard content search.\n",
      "--> Detected a metadata query. Retrieving all metadata for context.\n",
      "--> Performing standard content search.\n",
      "--> Performing standard content search.\n",
      "--> Performing standard content search.\n",
      "--> Performing standard content search.\n",
      "--> Performing standard content search.\n",
      "--> Performing standard content search.\n",
      "--> Performing standard content search.\n",
      "--> Performing standard content search.\n",
      "--> Performing standard content search.\n",
      "--> Performing standard content search.\n",
      "--> Performing standard content search.\n",
      "--> Performing standard content search.\n",
      "--> Performing standard content search.\n",
      "--> Performing standard content search.\n",
      "--> Performing standard content search.\n",
      "--> Performing standard content search.\n",
      "--> Performing standard content search.\n",
      "--> Performing standard content search.\n",
      "--> Performing standard content search.\n",
      "--> Performing standard content search.\n",
      "--> Detected a metadata query. Retrieving all metadata for context.\n",
      "--> Performing standard content search.\n",
      "--> Performing standard content search.\n",
      "--> Performing standard content search.\n",
      "--> Performing standard content search.\n",
      "--> Performing standard content search.\n",
      "--> Performing standard content search.\n",
      "--> Detected a metadata query. Retrieving all metadata for context.\n",
      "--> Performing standard content search.\n",
      "--> Performing standard content search.\n",
      "--> Performing standard content search.\n",
      "--> Detected a metadata query. Retrieving all metadata for context.\n",
      "--> Performing standard content search.\n",
      "--> Performing standard content search.\n",
      "--> Performing standard content search.\n",
      "--> Performing standard content search.\n",
      "--> Performing standard content search.\n",
      "--> Performing standard content search.\n",
      "--> Performing standard content search.\n",
      "--> Performing standard content search.\n",
      "--> Detected a metadata query. Retrieving all metadata for context.\n",
      "--> Performing standard content search.\n",
      "--> Performing standard content search.\n",
      "--> Detected a metadata query. Retrieving all metadata for context.\n",
      "--> Performing standard content search.\n",
      "--> Performing standard content search.\n",
      "--> Performing standard content search.\n",
      "--> Performing standard content search.\n",
      "--> Performing standard content search.\n",
      "--> Performing standard content search.\n",
      "--> Performing standard content search.\n",
      "--> Performing standard content search.\n",
      "--> Detected a metadata query. Retrieving all metadata for context.\n",
      "--> Performing standard content search.\n",
      "--> Performing standard content search.\n",
      "--> Performing standard content search.\n",
      "--> Performing standard content search.\n",
      "--> Performing standard content search.\n",
      "--> Performing standard content search.\n",
      "--> Performing standard content search.\n",
      "--> Performing standard content search.\n",
      "--> Performing standard content search.\n",
      "--> Detected a metadata query. Retrieving all metadata for context.\n",
      "--> Performing standard content search.\n",
      "--> Performing standard content search.\n",
      "--> Performing standard content search.\n",
      "--> Performing standard content search.\n",
      "--> Performing standard content search.\n",
      "--> Performing standard content search.\n",
      "--> Performing standard content search.\n",
      "--> Performing standard content search.\n",
      "--> Performing standard content search.\n",
      "--> Performing standard content search.\n",
      "--> Performing standard content search.\n"
     ]
    }
   ],
   "source": [
    "evaluations = []\n",
    "\n",
    "for record in tqdm(sample):\n",
    "    question = record['question']\n",
    "    answer_llm = rag(question) \n",
    "\n",
    "    prompt = prompt2_template.format(\n",
    "        question=question,\n",
    "        answer_llm=answer_llm\n",
    "    )\n",
    "\n",
    "    evaluation = llm(prompt)\n",
    "    evaluation = json.loads(evaluation)\n",
    "\n",
    "    evaluations.append((record, answer_llm, evaluation))"
   ]
  },
  {
   "cell_type": "code",
   "execution_count": 70,
   "id": "153172ac-ae34-40c5-8d77-f50c85fda8eb",
   "metadata": {},
   "outputs": [],
   "source": [
    "df_eval = pd.DataFrame(evaluations, columns=['record', 'answer', 'evaluation'])\n",
    "\n",
    "df_eval['id'] = df_eval.record.apply(lambda d: d['id'])\n",
    "df_eval['question'] = df_eval.record.apply(lambda d: d['question'])\n",
    "\n",
    "df_eval['relevance'] = df_eval.evaluation.apply(lambda d: d['Relevance'])\n",
    "df_eval['explanation'] = df_eval.evaluation.apply(lambda d: d['Explanation'])\n",
    "\n",
    "del df_eval['record']\n",
    "del df_eval['evaluation']"
   ]
  },
  {
   "cell_type": "code",
   "execution_count": 75,
   "id": "a7d1f076-2cd9-4fa3-a77e-a9a6e4a18c89",
   "metadata": {},
   "outputs": [
    {
     "data": {
      "text/plain": [
       "relevance\n",
       "RELEVANT           155\n",
       "NON_RELEVANT        29\n",
       "PARTLY_RELEVANT     16\n",
       "Name: count, dtype: int64"
      ]
     },
     "execution_count": 75,
     "metadata": {},
     "output_type": "execute_result"
    }
   ],
   "source": [
    "df_eval.relevance.value_counts()"
   ]
  },
  {
   "cell_type": "code",
   "execution_count": 72,
   "id": "127fbc9d-7d63-4499-a5a5-e6912c720e80",
   "metadata": {},
   "outputs": [
    {
     "data": {
      "text/plain": [
       "relevance\n",
       "RELEVANT           0.775\n",
       "NON_RELEVANT       0.145\n",
       "PARTLY_RELEVANT    0.080\n",
       "Name: proportion, dtype: float64"
      ]
     },
     "execution_count": 72,
     "metadata": {},
     "output_type": "execute_result"
    }
   ],
   "source": [
    "df_eval.relevance.value_counts(normalize=True)"
   ]
  },
  {
   "cell_type": "code",
   "execution_count": 74,
   "id": "33740f0f-caf8-486a-b688-d448c9711116",
   "metadata": {},
   "outputs": [
    {
     "data": {
      "text/html": [
       "<div>\n",
       "<style scoped>\n",
       "    .dataframe tbody tr th:only-of-type {\n",
       "        vertical-align: middle;\n",
       "    }\n",
       "\n",
       "    .dataframe tbody tr th {\n",
       "        vertical-align: top;\n",
       "    }\n",
       "\n",
       "    .dataframe thead th {\n",
       "        text-align: right;\n",
       "    }\n",
       "</style>\n",
       "<table border=\"1\" class=\"dataframe\">\n",
       "  <thead>\n",
       "    <tr style=\"text-align: right;\">\n",
       "      <th></th>\n",
       "      <th>answer</th>\n",
       "      <th>id</th>\n",
       "      <th>question</th>\n",
       "      <th>relevance</th>\n",
       "      <th>explanation</th>\n",
       "    </tr>\n",
       "  </thead>\n",
       "  <tbody>\n",
       "    <tr>\n",
       "      <th>3</th>\n",
       "      <td>The information regarding specific metrics use...</td>\n",
       "      <td>a-disruptive-approach-to-crm-and-situational-a...</td>\n",
       "      <td>What specific metrics were highlighted in the ...</td>\n",
       "      <td>NON_RELEVANT</td>\n",
       "      <td>The generated answer does not address the ques...</td>\n",
       "    </tr>\n",
       "    <tr>\n",
       "      <th>21</th>\n",
       "      <td>The information regarding why self-evaluation ...</td>\n",
       "      <td>a-disruptive-approach-to-crm-and-situational-a...</td>\n",
       "      <td>Why is self-evaluation important in assessing ...</td>\n",
       "      <td>NON_RELEVANT</td>\n",
       "      <td>The generated answer does not address the ques...</td>\n",
       "    </tr>\n",
       "    <tr>\n",
       "      <th>34</th>\n",
       "      <td>The information is not available in the provid...</td>\n",
       "      <td>holistic-approach-to-human-performance-improve...</td>\n",
       "      <td>What are the three methodologies that are comb...</td>\n",
       "      <td>NON_RELEVANT</td>\n",
       "      <td>The generated answer does not address the ques...</td>\n",
       "    </tr>\n",
       "    <tr>\n",
       "      <th>41</th>\n",
       "      <td>The provided documents do not specify the exac...</td>\n",
       "      <td>holistic-approach-to-human-performance-improve...</td>\n",
       "      <td>What factors might contribute to the changes o...</td>\n",
       "      <td>NON_RELEVANT</td>\n",
       "      <td>The generated answer does not address the ques...</td>\n",
       "    </tr>\n",
       "    <tr>\n",
       "      <th>47</th>\n",
       "      <td>The provided metadata does not include any inf...</td>\n",
       "      <td>holistic-approach-to-human-performance-improve...</td>\n",
       "      <td>What is the range of leaders that the authors ...</td>\n",
       "      <td>NON_RELEVANT</td>\n",
       "      <td>The generated answer does not address the ques...</td>\n",
       "    </tr>\n",
       "    <tr>\n",
       "      <th>52</th>\n",
       "      <td>The information is not available in the provid...</td>\n",
       "      <td>a-disruptive-approach-to-crm-and-situational-a...</td>\n",
       "      <td>How can the results shown in Figure 9 be utili...</td>\n",
       "      <td>NON_RELEVANT</td>\n",
       "      <td>The generated answer states that the informati...</td>\n",
       "    </tr>\n",
       "    <tr>\n",
       "      <th>55</th>\n",
       "      <td>The provided metadata does not contain any inf...</td>\n",
       "      <td>a-disruptive-approach-to-crm-and-situational-a...</td>\n",
       "      <td>How did the authors classify the incidents in ...</td>\n",
       "      <td>NON_RELEVANT</td>\n",
       "      <td>The generated answer states that it cannot pro...</td>\n",
       "    </tr>\n",
       "    <tr>\n",
       "      <th>57</th>\n",
       "      <td>Based on the provided metadata, there is no me...</td>\n",
       "      <td>a-disruptive-approach-to-crm-and-situational-a...</td>\n",
       "      <td>What specific program's initial impact was est...</td>\n",
       "      <td>NON_RELEVANT</td>\n",
       "      <td>The generated answer explicitly states that th...</td>\n",
       "    </tr>\n",
       "    <tr>\n",
       "      <th>63</th>\n",
       "      <td>The information is not available in the provid...</td>\n",
       "      <td>holistic-approach-to-human-performance-improve...</td>\n",
       "      <td>In what ways might the assessment results impa...</td>\n",
       "      <td>NON_RELEVANT</td>\n",
       "      <td>The generated answer does not address the ques...</td>\n",
       "    </tr>\n",
       "    <tr>\n",
       "      <th>70</th>\n",
       "      <td>The information is not available in the provid...</td>\n",
       "      <td>holistic-approach-to-human-performance-improve...</td>\n",
       "      <td>What are the key behaviors that differentiate ...</td>\n",
       "      <td>NON_RELEVANT</td>\n",
       "      <td>The generated answer states that the informati...</td>\n",
       "    </tr>\n",
       "    <tr>\n",
       "      <th>73</th>\n",
       "      <td>The information is not available in the provid...</td>\n",
       "      <td>a-disruptive-approach-to-crm-and-situational-a...</td>\n",
       "      <td>Who are the primary researchers mentioned in t...</td>\n",
       "      <td>NON_RELEVANT</td>\n",
       "      <td>The generated answer does not address the ques...</td>\n",
       "    </tr>\n",
       "    <tr>\n",
       "      <th>75</th>\n",
       "      <td>The information is not available in the provid...</td>\n",
       "      <td>a-disruptive-approach-to-crm-and-situational-a...</td>\n",
       "      <td>What are the key competencies emphasized in th...</td>\n",
       "      <td>NON_RELEVANT</td>\n",
       "      <td>The generated answer does not provide any info...</td>\n",
       "    </tr>\n",
       "    <tr>\n",
       "      <th>94</th>\n",
       "      <td>The metadata does not provide specific details...</td>\n",
       "      <td>a-disruptive-approach-to-crm-and-situational-a...</td>\n",
       "      <td>What does the authors' belief about the progra...</td>\n",
       "      <td>NON_RELEVANT</td>\n",
       "      <td>The generated answer does not address the ques...</td>\n",
       "    </tr>\n",
       "    <tr>\n",
       "      <th>101</th>\n",
       "      <td>The information regarding how the representati...</td>\n",
       "      <td>holistic-approach-to-human-performance-improve...</td>\n",
       "      <td>In what ways does the representation of satisf...</td>\n",
       "      <td>NON_RELEVANT</td>\n",
       "      <td>The generated answer does not address the ques...</td>\n",
       "    </tr>\n",
       "    <tr>\n",
       "      <th>106</th>\n",
       "      <td>The information regarding the importance of me...</td>\n",
       "      <td>a-disruptive-approach-to-crm-and-situational-a...</td>\n",
       "      <td>What is the importance of measuring standard d...</td>\n",
       "      <td>NON_RELEVANT</td>\n",
       "      <td>The generated answer does not address the ques...</td>\n",
       "    </tr>\n",
       "    <tr>\n",
       "      <th>125</th>\n",
       "      <td>The provided metadata does not contain any spe...</td>\n",
       "      <td>a-disruptive-approach-to-crm-and-situational-a...</td>\n",
       "      <td>What specific competencies do employees fail t...</td>\n",
       "      <td>NON_RELEVANT</td>\n",
       "      <td>The generated answer does not address the ques...</td>\n",
       "    </tr>\n",
       "    <tr>\n",
       "      <th>130</th>\n",
       "      <td>The provided documents do not specify how lead...</td>\n",
       "      <td>a-disruptive-approach-to-crm-and-situational-a...</td>\n",
       "      <td>How does leadership play a role in enhancing C...</td>\n",
       "      <td>NON_RELEVANT</td>\n",
       "      <td>The generated answer states that the documents...</td>\n",
       "    </tr>\n",
       "    <tr>\n",
       "      <th>141</th>\n",
       "      <td>The information is not available in the provid...</td>\n",
       "      <td>holistic-approach-to-human-performance-improve...</td>\n",
       "      <td>How has the incidence of non-productive time p...</td>\n",
       "      <td>NON_RELEVANT</td>\n",
       "      <td>The generated answer fails to address the ques...</td>\n",
       "    </tr>\n",
       "    <tr>\n",
       "      <th>145</th>\n",
       "      <td>The information is not available in the provid...</td>\n",
       "      <td>a-disruptive-approach-to-crm-and-situational-a...</td>\n",
       "      <td>In what ways could the results of the self-rat...</td>\n",
       "      <td>NON_RELEVANT</td>\n",
       "      <td>The generated answer does not address the ques...</td>\n",
       "    </tr>\n",
       "    <tr>\n",
       "      <th>153</th>\n",
       "      <td>The provided metadata does not contain specifi...</td>\n",
       "      <td>holistic-approach-to-human-performance-improve...</td>\n",
       "      <td>What is the main goal of the authors regarding...</td>\n",
       "      <td>NON_RELEVANT</td>\n",
       "      <td>The generated answer does not provide any rele...</td>\n",
       "    </tr>\n",
       "    <tr>\n",
       "      <th>157</th>\n",
       "      <td>The provided metadata does not contain specifi...</td>\n",
       "      <td>a-disruptive-approach-to-crm-and-situational-a...</td>\n",
       "      <td>What do the authors confirm about the manageme...</td>\n",
       "      <td>NON_RELEVANT</td>\n",
       "      <td>The generated answer fails to address the ques...</td>\n",
       "    </tr>\n",
       "    <tr>\n",
       "      <th>159</th>\n",
       "      <td>The information regarding how Transactional an...</td>\n",
       "      <td>holistic-approach-to-human-performance-improve...</td>\n",
       "      <td>How do Transactional and Passive/Avoidant beha...</td>\n",
       "      <td>NON_RELEVANT</td>\n",
       "      <td>The generated answer does not address the ques...</td>\n",
       "    </tr>\n",
       "    <tr>\n",
       "      <th>161</th>\n",
       "      <td>The information is not available in the provid...</td>\n",
       "      <td>holistic-approach-to-human-performance-improve...</td>\n",
       "      <td>Why is it important to analyze both transactio...</td>\n",
       "      <td>NON_RELEVANT</td>\n",
       "      <td>The generated answer does not address the ques...</td>\n",
       "    </tr>\n",
       "    <tr>\n",
       "      <th>166</th>\n",
       "      <td>The provided metadata does not specify the thr...</td>\n",
       "      <td>a-disruptive-approach-to-crm-and-situational-a...</td>\n",
       "      <td>What are the three key competencies that the a...</td>\n",
       "      <td>NON_RELEVANT</td>\n",
       "      <td>The generated answer does not address the ques...</td>\n",
       "    </tr>\n",
       "    <tr>\n",
       "      <th>175</th>\n",
       "      <td>The information is not available in the provid...</td>\n",
       "      <td>holistic-approach-to-human-performance-improve...</td>\n",
       "      <td>What are the four stages involved in the metho...</td>\n",
       "      <td>NON_RELEVANT</td>\n",
       "      <td>The generated answer does not provide any info...</td>\n",
       "    </tr>\n",
       "    <tr>\n",
       "      <th>178</th>\n",
       "      <td>The metadata does not provide specific details...</td>\n",
       "      <td>a-disruptive-approach-to-crm-and-situational-a...</td>\n",
       "      <td>What prompted the authors to explore a new met...</td>\n",
       "      <td>NON_RELEVANT</td>\n",
       "      <td>The generated answer does not address the ques...</td>\n",
       "    </tr>\n",
       "    <tr>\n",
       "      <th>187</th>\n",
       "      <td>The specific interventions that can be impleme...</td>\n",
       "      <td>a-disruptive-approach-to-crm-and-situational-a...</td>\n",
       "      <td>What are the specific interventions that can b...</td>\n",
       "      <td>NON_RELEVANT</td>\n",
       "      <td>The generated answer states that specific inte...</td>\n",
       "    </tr>\n",
       "    <tr>\n",
       "      <th>189</th>\n",
       "      <td>The information regarding specific incidents t...</td>\n",
       "      <td>holistic-approach-to-human-performance-improve...</td>\n",
       "      <td>Which specific incidents prompted the organiza...</td>\n",
       "      <td>NON_RELEVANT</td>\n",
       "      <td>The generated answer does not address the ques...</td>\n",
       "    </tr>\n",
       "    <tr>\n",
       "      <th>195</th>\n",
       "      <td>The information is not available in the provid...</td>\n",
       "      <td>a-disruptive-approach-to-crm-and-situational-a...</td>\n",
       "      <td>Which groups of employees were prioritized for...</td>\n",
       "      <td>NON_RELEVANT</td>\n",
       "      <td>The generated answer does not address the ques...</td>\n",
       "    </tr>\n",
       "  </tbody>\n",
       "</table>\n",
       "</div>"
      ],
      "text/plain": [
       "                                                answer  \\\n",
       "3    The information regarding specific metrics use...   \n",
       "21   The information regarding why self-evaluation ...   \n",
       "34   The information is not available in the provid...   \n",
       "41   The provided documents do not specify the exac...   \n",
       "47   The provided metadata does not include any inf...   \n",
       "52   The information is not available in the provid...   \n",
       "55   The provided metadata does not contain any inf...   \n",
       "57   Based on the provided metadata, there is no me...   \n",
       "63   The information is not available in the provid...   \n",
       "70   The information is not available in the provid...   \n",
       "73   The information is not available in the provid...   \n",
       "75   The information is not available in the provid...   \n",
       "94   The metadata does not provide specific details...   \n",
       "101  The information regarding how the representati...   \n",
       "106  The information regarding the importance of me...   \n",
       "125  The provided metadata does not contain any spe...   \n",
       "130  The provided documents do not specify how lead...   \n",
       "141  The information is not available in the provid...   \n",
       "145  The information is not available in the provid...   \n",
       "153  The provided metadata does not contain specifi...   \n",
       "157  The provided metadata does not contain specifi...   \n",
       "159  The information regarding how Transactional an...   \n",
       "161  The information is not available in the provid...   \n",
       "166  The provided metadata does not specify the thr...   \n",
       "175  The information is not available in the provid...   \n",
       "178  The metadata does not provide specific details...   \n",
       "187  The specific interventions that can be impleme...   \n",
       "189  The information regarding specific incidents t...   \n",
       "195  The information is not available in the provid...   \n",
       "\n",
       "                                                    id  \\\n",
       "3    a-disruptive-approach-to-crm-and-situational-a...   \n",
       "21   a-disruptive-approach-to-crm-and-situational-a...   \n",
       "34   holistic-approach-to-human-performance-improve...   \n",
       "41   holistic-approach-to-human-performance-improve...   \n",
       "47   holistic-approach-to-human-performance-improve...   \n",
       "52   a-disruptive-approach-to-crm-and-situational-a...   \n",
       "55   a-disruptive-approach-to-crm-and-situational-a...   \n",
       "57   a-disruptive-approach-to-crm-and-situational-a...   \n",
       "63   holistic-approach-to-human-performance-improve...   \n",
       "70   holistic-approach-to-human-performance-improve...   \n",
       "73   a-disruptive-approach-to-crm-and-situational-a...   \n",
       "75   a-disruptive-approach-to-crm-and-situational-a...   \n",
       "94   a-disruptive-approach-to-crm-and-situational-a...   \n",
       "101  holistic-approach-to-human-performance-improve...   \n",
       "106  a-disruptive-approach-to-crm-and-situational-a...   \n",
       "125  a-disruptive-approach-to-crm-and-situational-a...   \n",
       "130  a-disruptive-approach-to-crm-and-situational-a...   \n",
       "141  holistic-approach-to-human-performance-improve...   \n",
       "145  a-disruptive-approach-to-crm-and-situational-a...   \n",
       "153  holistic-approach-to-human-performance-improve...   \n",
       "157  a-disruptive-approach-to-crm-and-situational-a...   \n",
       "159  holistic-approach-to-human-performance-improve...   \n",
       "161  holistic-approach-to-human-performance-improve...   \n",
       "166  a-disruptive-approach-to-crm-and-situational-a...   \n",
       "175  holistic-approach-to-human-performance-improve...   \n",
       "178  a-disruptive-approach-to-crm-and-situational-a...   \n",
       "187  a-disruptive-approach-to-crm-and-situational-a...   \n",
       "189  holistic-approach-to-human-performance-improve...   \n",
       "195  a-disruptive-approach-to-crm-and-situational-a...   \n",
       "\n",
       "                                              question     relevance  \\\n",
       "3    What specific metrics were highlighted in the ...  NON_RELEVANT   \n",
       "21   Why is self-evaluation important in assessing ...  NON_RELEVANT   \n",
       "34   What are the three methodologies that are comb...  NON_RELEVANT   \n",
       "41   What factors might contribute to the changes o...  NON_RELEVANT   \n",
       "47   What is the range of leaders that the authors ...  NON_RELEVANT   \n",
       "52   How can the results shown in Figure 9 be utili...  NON_RELEVANT   \n",
       "55   How did the authors classify the incidents in ...  NON_RELEVANT   \n",
       "57   What specific program's initial impact was est...  NON_RELEVANT   \n",
       "63   In what ways might the assessment results impa...  NON_RELEVANT   \n",
       "70   What are the key behaviors that differentiate ...  NON_RELEVANT   \n",
       "73   Who are the primary researchers mentioned in t...  NON_RELEVANT   \n",
       "75   What are the key competencies emphasized in th...  NON_RELEVANT   \n",
       "94   What does the authors' belief about the progra...  NON_RELEVANT   \n",
       "101  In what ways does the representation of satisf...  NON_RELEVANT   \n",
       "106  What is the importance of measuring standard d...  NON_RELEVANT   \n",
       "125  What specific competencies do employees fail t...  NON_RELEVANT   \n",
       "130  How does leadership play a role in enhancing C...  NON_RELEVANT   \n",
       "141  How has the incidence of non-productive time p...  NON_RELEVANT   \n",
       "145  In what ways could the results of the self-rat...  NON_RELEVANT   \n",
       "153  What is the main goal of the authors regarding...  NON_RELEVANT   \n",
       "157  What do the authors confirm about the manageme...  NON_RELEVANT   \n",
       "159  How do Transactional and Passive/Avoidant beha...  NON_RELEVANT   \n",
       "161  Why is it important to analyze both transactio...  NON_RELEVANT   \n",
       "166  What are the three key competencies that the a...  NON_RELEVANT   \n",
       "175  What are the four stages involved in the metho...  NON_RELEVANT   \n",
       "178  What prompted the authors to explore a new met...  NON_RELEVANT   \n",
       "187  What are the specific interventions that can b...  NON_RELEVANT   \n",
       "189  Which specific incidents prompted the organiza...  NON_RELEVANT   \n",
       "195  Which groups of employees were prioritized for...  NON_RELEVANT   \n",
       "\n",
       "                                           explanation  \n",
       "3    The generated answer does not address the ques...  \n",
       "21   The generated answer does not address the ques...  \n",
       "34   The generated answer does not address the ques...  \n",
       "41   The generated answer does not address the ques...  \n",
       "47   The generated answer does not address the ques...  \n",
       "52   The generated answer states that the informati...  \n",
       "55   The generated answer states that it cannot pro...  \n",
       "57   The generated answer explicitly states that th...  \n",
       "63   The generated answer does not address the ques...  \n",
       "70   The generated answer states that the informati...  \n",
       "73   The generated answer does not address the ques...  \n",
       "75   The generated answer does not provide any info...  \n",
       "94   The generated answer does not address the ques...  \n",
       "101  The generated answer does not address the ques...  \n",
       "106  The generated answer does not address the ques...  \n",
       "125  The generated answer does not address the ques...  \n",
       "130  The generated answer states that the documents...  \n",
       "141  The generated answer fails to address the ques...  \n",
       "145  The generated answer does not address the ques...  \n",
       "153  The generated answer does not provide any rele...  \n",
       "157  The generated answer fails to address the ques...  \n",
       "159  The generated answer does not address the ques...  \n",
       "161  The generated answer does not address the ques...  \n",
       "166  The generated answer does not address the ques...  \n",
       "175  The generated answer does not provide any info...  \n",
       "178  The generated answer does not address the ques...  \n",
       "187  The generated answer states that specific inte...  \n",
       "189  The generated answer does not address the ques...  \n",
       "195  The generated answer does not address the ques...  "
      ]
     },
     "execution_count": 74,
     "metadata": {},
     "output_type": "execute_result"
    }
   ],
   "source": [
    "df_eval[df_eval.relevance == 'NON_RELEVANT']"
   ]
  },
  {
   "cell_type": "code",
   "execution_count": 73,
   "id": "a6fe17fa-9100-4a02-9c42-7898208cbbf4",
   "metadata": {},
   "outputs": [],
   "source": [
    "df_eval.to_csv('../data/rag-eval-gpt-4o-mini.csv', index=False)"
   ]
  },
  {
   "cell_type": "code",
   "execution_count": null,
   "id": "1a2d7573-0d9a-4a10-92eb-3e729808e327",
   "metadata": {},
   "outputs": [],
   "source": []
  }
 ],
 "metadata": {
  "kernelspec": {
   "display_name": "Python 3 (ipykernel)",
   "language": "python",
   "name": "python3"
  },
  "language_info": {
   "codemirror_mode": {
    "name": "ipython",
    "version": 3
   },
   "file_extension": ".py",
   "mimetype": "text/x-python",
   "name": "python",
   "nbconvert_exporter": "python",
   "pygments_lexer": "ipython3",
   "version": "3.12.3"
  }
 },
 "nbformat": 4,
 "nbformat_minor": 5
}
